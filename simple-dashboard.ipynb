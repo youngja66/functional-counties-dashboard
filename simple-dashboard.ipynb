{
 "cells": [
  {
   "cell_type": "code",
   "execution_count": null,
   "metadata": {},
   "outputs": [],
   "source": [
    "import pandas as pd\nimport folium\nprint('Dashboard working!')\n\n# Create simple map\nm = folium.Map(location=[39.8, -98.5], zoom_start=4)\nfolium.Marker([39.8, -98.5], popup='Center of USA').add_to(m)\nm"
   ]
  }
 ],
 "metadata": {
  "kernelspec": {"display_name": "Python 3", "language": "python", "name": "python3"},
  "language_info": {"name": "python", "version": "3.9.7"}
 }
}
